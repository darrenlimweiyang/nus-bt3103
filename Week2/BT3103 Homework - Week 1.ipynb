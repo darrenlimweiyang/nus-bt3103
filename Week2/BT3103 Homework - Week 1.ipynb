{
 "cells": [
  {
   "cell_type": "markdown",
   "metadata": {},
   "source": [
    "# BT3103 Week 1 Homework\n",
    "---\n",
    "\n",
    "## Overview\n",
    "\n",
    "In this notebook, we will explore the commands learnt in week 1's lecture. The commands will be split into two sections\n",
    "\n",
    "- [Pandas](https://pandas.pydata.org/)\n",
    "\n",
    "- [Matplotlib](https://matplotlib.org/)\n",
    "\n",
    "## Outline\n",
    "\n",
    "#### Pandas\n",
    "\n",
    "1.1 Import library\n",
    "\n",
    "1.2 Creating df via dictionary\n",
    "\n",
    "1.3 Reading csv and xlsx file\n",
    "\n",
    "1.4 Exploring dataframes\n",
    "\n",
    "1.5 Selecting data via row number\n",
    "\n",
    "1.6 Selecting data using labels\n",
    "\n",
    "---\n",
    "\n",
    "#### Matplotlib\n",
    "\n",
    "2.1 Histogram and boxplot\n",
    "\n",
    "2.2 Barchart\n",
    "\n",
    "2.3 Lineplot\n",
    "\n",
    "2.4 Scatterplot"
   ]
  },
  {
   "cell_type": "markdown",
   "metadata": {},
   "source": [
    "#### 1.1 Importing Libraries\n"
   ]
  },
  {
   "cell_type": "code",
   "execution_count": 59,
   "metadata": {},
   "outputs": [],
   "source": [
    "import pandas as pd\n",
    "import matplotlib.pyplot as plt"
   ]
  },
  {
   "cell_type": "markdown",
   "metadata": {},
   "source": [
    "#### 1.2 Creating df via dictionary"
   ]
  },
  {
   "cell_type": "code",
   "execution_count": 3,
   "metadata": {},
   "outputs": [
    {
     "data": {
      "text/html": [
       "<div>\n",
       "<style scoped>\n",
       "    .dataframe tbody tr th:only-of-type {\n",
       "        vertical-align: middle;\n",
       "    }\n",
       "\n",
       "    .dataframe tbody tr th {\n",
       "        vertical-align: top;\n",
       "    }\n",
       "\n",
       "    .dataframe thead th {\n",
       "        text-align: right;\n",
       "    }\n",
       "</style>\n",
       "<table border=\"1\" class=\"dataframe\">\n",
       "  <thead>\n",
       "    <tr style=\"text-align: right;\">\n",
       "      <th></th>\n",
       "      <th>Name</th>\n",
       "      <th>GPA</th>\n",
       "    </tr>\n",
       "  </thead>\n",
       "  <tbody>\n",
       "    <tr>\n",
       "      <th>0</th>\n",
       "      <td>Darren</td>\n",
       "      <td>4.3</td>\n",
       "    </tr>\n",
       "    <tr>\n",
       "      <th>1</th>\n",
       "      <td>Valary</td>\n",
       "      <td>4.7</td>\n",
       "    </tr>\n",
       "  </tbody>\n",
       "</table>\n",
       "</div>"
      ],
      "text/plain": [
       "     Name  GPA\n",
       "0  Darren  4.3\n",
       "1  Valary  4.7"
      ]
     },
     "execution_count": 3,
     "metadata": {},
     "output_type": "execute_result"
    }
   ],
   "source": [
    "data = {'Name':['Darren', 'Valary', 'Ryan', 'Jasmine'],\n",
    "        'GPA':[4.3, 4.7, 4.4, 4.0]}\n",
    "\n",
    "df = pd.DataFrame(data)\n",
    "\n",
    "df.head(2)"
   ]
  },
  {
   "cell_type": "markdown",
   "metadata": {},
   "source": [
    "#### 1.3 Reading csv and xlsx files \n",
    "(take note, you should have the required datasets in the working directory for the following commands to work)\n",
    "\n",
    "---\n",
    "\n",
    "#### What is the difference between [csv](https://en.wikipedia.org/wiki/Comma-separated_values) and [xlsx](https://whatis.techtarget.com/fileformat/XLSX-Microsoft-Excel-Open-XML-Document)?\n",
    "\n",
    "1. CSV refers to comma separated values, where every cell value is separated by a comma. \n",
    "\n",
    "2. XLSX is a format made popular by microsoft excel. \n",
    "\n",
    "One key difference is that CSV files can only contain one tab, while xlsx files can have multiple. \n",
    "\n",
    "Here is a link detailing the [difference in performance.](https://stackoverflow.com/questions/31362573/performance-difference-in-pandas-read-table-vs-read-csv-vs-from-csv-vs-read-e)"
   ]
  },
  {
   "cell_type": "code",
   "execution_count": 7,
   "metadata": {},
   "outputs": [
    {
     "data": {
      "text/html": [
       "<div>\n",
       "<style scoped>\n",
       "    .dataframe tbody tr th:only-of-type {\n",
       "        vertical-align: middle;\n",
       "    }\n",
       "\n",
       "    .dataframe tbody tr th {\n",
       "        vertical-align: top;\n",
       "    }\n",
       "\n",
       "    .dataframe thead th {\n",
       "        text-align: right;\n",
       "    }\n",
       "</style>\n",
       "<table border=\"1\" class=\"dataframe\">\n",
       "  <thead>\n",
       "    <tr style=\"text-align: right;\">\n",
       "      <th></th>\n",
       "      <th>listing_id</th>\n",
       "      <th>id</th>\n",
       "      <th>date</th>\n",
       "      <th>reviewer_id</th>\n",
       "      <th>reviewer_name</th>\n",
       "      <th>comments</th>\n",
       "    </tr>\n",
       "  </thead>\n",
       "  <tbody>\n",
       "    <tr>\n",
       "      <th>0</th>\n",
       "      <td>2515</td>\n",
       "      <td>198</td>\n",
       "      <td>2008-10-13</td>\n",
       "      <td>2603</td>\n",
       "      <td>Jenny</td>\n",
       "      <td>Stephanie was a wonderful host! Her apartment ...</td>\n",
       "    </tr>\n",
       "    <tr>\n",
       "      <th>1</th>\n",
       "      <td>2515</td>\n",
       "      <td>859</td>\n",
       "      <td>2009-03-08</td>\n",
       "      <td>8455</td>\n",
       "      <td>Roland</td>\n",
       "      <td>Such a wonderful place and very close to the m...</td>\n",
       "    </tr>\n",
       "  </tbody>\n",
       "</table>\n",
       "</div>"
      ],
      "text/plain": [
       "   listing_id   id        date  reviewer_id reviewer_name  \\\n",
       "0        2515  198  2008-10-13         2603         Jenny   \n",
       "1        2515  859  2009-03-08         8455        Roland   \n",
       "\n",
       "                                            comments  \n",
       "0  Stephanie was a wonderful host! Her apartment ...  \n",
       "1  Such a wonderful place and very close to the m...  "
      ]
     },
     "execution_count": 7,
     "metadata": {},
     "output_type": "execute_result"
    }
   ],
   "source": [
    "airbnb = pd.read_csv(\"datasets/airbnb_reviews.csv\")\n",
    "airbnb.head(2)"
   ]
  },
  {
   "cell_type": "code",
   "execution_count": 8,
   "metadata": {},
   "outputs": [
    {
     "data": {
      "text/html": [
       "<div>\n",
       "<style scoped>\n",
       "    .dataframe tbody tr th:only-of-type {\n",
       "        vertical-align: middle;\n",
       "    }\n",
       "\n",
       "    .dataframe tbody tr th {\n",
       "        vertical-align: top;\n",
       "    }\n",
       "\n",
       "    .dataframe thead th {\n",
       "        text-align: right;\n",
       "    }\n",
       "</style>\n",
       "<table border=\"1\" class=\"dataframe\">\n",
       "  <thead>\n",
       "    <tr style=\"text-align: right;\">\n",
       "      <th></th>\n",
       "      <th>Unnamed: 0</th>\n",
       "      <th>Cars below 1600cc</th>\n",
       "      <th>Cars above 1600cc</th>\n",
       "      <th>Goods Vehicles &amp; Buses</th>\n",
       "      <th>Motorcycles &amp; Scooters</th>\n",
       "      <th>Taxis</th>\n",
       "    </tr>\n",
       "  </thead>\n",
       "  <tbody>\n",
       "    <tr>\n",
       "      <th>0</th>\n",
       "      <td>2003 Sep</td>\n",
       "      <td>261319</td>\n",
       "      <td>142891</td>\n",
       "      <td>131973</td>\n",
       "      <td>134302</td>\n",
       "      <td>19182</td>\n",
       "    </tr>\n",
       "    <tr>\n",
       "      <th>1</th>\n",
       "      <td>2003 Oct</td>\n",
       "      <td>260588</td>\n",
       "      <td>143786</td>\n",
       "      <td>131953</td>\n",
       "      <td>134215</td>\n",
       "      <td>19192</td>\n",
       "    </tr>\n",
       "    <tr>\n",
       "      <th>2</th>\n",
       "      <td>2003 Nov</td>\n",
       "      <td>260250</td>\n",
       "      <td>144780</td>\n",
       "      <td>131920</td>\n",
       "      <td>134327</td>\n",
       "      <td>19228</td>\n",
       "    </tr>\n",
       "  </tbody>\n",
       "</table>\n",
       "</div>"
      ],
      "text/plain": [
       "  Unnamed: 0  Cars below 1600cc  Cars above 1600cc  Goods Vehicles & Buses  \\\n",
       "0   2003 Sep             261319             142891                  131973   \n",
       "1   2003 Oct             260588             143786                  131953   \n",
       "2   2003 Nov             260250             144780                  131920   \n",
       "\n",
       "   Motorcycles & Scooters  Taxis  \n",
       "0                  134302  19182  \n",
       "1                  134215  19192  \n",
       "2                  134327  19228  "
      ]
     },
     "execution_count": 8,
     "metadata": {},
     "output_type": "execute_result"
    }
   ],
   "source": [
    "cars = pd.read_excel(\"datasets/cars_pop.xlsx\")\n",
    "\n",
    "cars.head(3)"
   ]
  },
  {
   "cell_type": "markdown",
   "metadata": {},
   "source": [
    "#### 1.4 Exploring dataframes\n",
    "\n",
    "Commands used: .head(), .shape(), info(), tail()"
   ]
  },
  {
   "cell_type": "code",
   "execution_count": 9,
   "metadata": {},
   "outputs": [
    {
     "data": {
      "text/html": [
       "<div>\n",
       "<style scoped>\n",
       "    .dataframe tbody tr th:only-of-type {\n",
       "        vertical-align: middle;\n",
       "    }\n",
       "\n",
       "    .dataframe tbody tr th {\n",
       "        vertical-align: top;\n",
       "    }\n",
       "\n",
       "    .dataframe thead th {\n",
       "        text-align: right;\n",
       "    }\n",
       "</style>\n",
       "<table border=\"1\" class=\"dataframe\">\n",
       "  <thead>\n",
       "    <tr style=\"text-align: right;\">\n",
       "      <th></th>\n",
       "      <th>listing_id</th>\n",
       "      <th>id</th>\n",
       "      <th>date</th>\n",
       "      <th>reviewer_id</th>\n",
       "      <th>reviewer_name</th>\n",
       "      <th>comments</th>\n",
       "    </tr>\n",
       "  </thead>\n",
       "  <tbody>\n",
       "    <tr>\n",
       "      <th>0</th>\n",
       "      <td>2515</td>\n",
       "      <td>198</td>\n",
       "      <td>2008-10-13</td>\n",
       "      <td>2603</td>\n",
       "      <td>Jenny</td>\n",
       "      <td>Stephanie was a wonderful host! Her apartment ...</td>\n",
       "    </tr>\n",
       "    <tr>\n",
       "      <th>1</th>\n",
       "      <td>2515</td>\n",
       "      <td>859</td>\n",
       "      <td>2009-03-08</td>\n",
       "      <td>8455</td>\n",
       "      <td>Roland</td>\n",
       "      <td>Such a wonderful place and very close to the m...</td>\n",
       "    </tr>\n",
       "  </tbody>\n",
       "</table>\n",
       "</div>"
      ],
      "text/plain": [
       "   listing_id   id        date  reviewer_id reviewer_name  \\\n",
       "0        2515  198  2008-10-13         2603         Jenny   \n",
       "1        2515  859  2009-03-08         8455        Roland   \n",
       "\n",
       "                                            comments  \n",
       "0  Stephanie was a wonderful host! Her apartment ...  \n",
       "1  Such a wonderful place and very close to the m...  "
      ]
     },
     "execution_count": 9,
     "metadata": {},
     "output_type": "execute_result"
    }
   ],
   "source": [
    "airbnb.head(2)"
   ]
  },
  {
   "cell_type": "code",
   "execution_count": 17,
   "metadata": {},
   "outputs": [
    {
     "data": {
      "text/plain": [
       "(1030208, 6)"
      ]
     },
     "execution_count": 17,
     "metadata": {},
     "output_type": "execute_result"
    }
   ],
   "source": [
    "airbnb.shape"
   ]
  },
  {
   "cell_type": "code",
   "execution_count": 13,
   "metadata": {},
   "outputs": [
    {
     "name": "stdout",
     "output_type": "stream",
     "text": [
      "<class 'pandas.core.frame.DataFrame'>\n",
      "RangeIndex: 1030208 entries, 0 to 1030207\n",
      "Data columns (total 6 columns):\n",
      "listing_id       1030208 non-null int64\n",
      "id               1030208 non-null int64\n",
      "date             1030208 non-null object\n",
      "reviewer_id      1030208 non-null int64\n",
      "reviewer_name    1030208 non-null object\n",
      "comments         1029007 non-null object\n",
      "dtypes: int64(3), object(3)\n",
      "memory usage: 47.2+ MB\n"
     ]
    }
   ],
   "source": [
    "airbnb.info()"
   ]
  },
  {
   "cell_type": "code",
   "execution_count": 15,
   "metadata": {},
   "outputs": [
    {
     "data": {
      "text/html": [
       "<div>\n",
       "<style scoped>\n",
       "    .dataframe tbody tr th:only-of-type {\n",
       "        vertical-align: middle;\n",
       "    }\n",
       "\n",
       "    .dataframe tbody tr th {\n",
       "        vertical-align: top;\n",
       "    }\n",
       "\n",
       "    .dataframe thead th {\n",
       "        text-align: right;\n",
       "    }\n",
       "</style>\n",
       "<table border=\"1\" class=\"dataframe\">\n",
       "  <thead>\n",
       "    <tr style=\"text-align: right;\">\n",
       "      <th></th>\n",
       "      <th>listing_id</th>\n",
       "      <th>id</th>\n",
       "      <th>date</th>\n",
       "      <th>reviewer_id</th>\n",
       "      <th>reviewer_name</th>\n",
       "      <th>comments</th>\n",
       "    </tr>\n",
       "  </thead>\n",
       "  <tbody>\n",
       "    <tr>\n",
       "      <th>1030203</th>\n",
       "      <td>28332975</td>\n",
       "      <td>319559955</td>\n",
       "      <td>2018-09-06</td>\n",
       "      <td>741211</td>\n",
       "      <td>Shana</td>\n",
       "      <td>The host canceled this reservation 22 days bef...</td>\n",
       "    </tr>\n",
       "    <tr>\n",
       "      <th>1030204</th>\n",
       "      <td>28341280</td>\n",
       "      <td>319884817</td>\n",
       "      <td>2018-09-07</td>\n",
       "      <td>70188225</td>\n",
       "      <td>Geenie</td>\n",
       "      <td>Gorgeous and immaculate! I had the best rest. ...</td>\n",
       "    </tr>\n",
       "    <tr>\n",
       "      <th>1030205</th>\n",
       "      <td>28342923</td>\n",
       "      <td>319775815</td>\n",
       "      <td>2018-09-07</td>\n",
       "      <td>63813041</td>\n",
       "      <td>Barbara</td>\n",
       "      <td>The host canceled this reservation 112 days be...</td>\n",
       "    </tr>\n",
       "    <tr>\n",
       "      <th>1030206</th>\n",
       "      <td>28369552</td>\n",
       "      <td>320264517</td>\n",
       "      <td>2018-09-08</td>\n",
       "      <td>181877070</td>\n",
       "      <td>Tania</td>\n",
       "      <td>The host canceled this reservation 2 days befo...</td>\n",
       "    </tr>\n",
       "    <tr>\n",
       "      <th>1030207</th>\n",
       "      <td>28369552</td>\n",
       "      <td>320267917</td>\n",
       "      <td>2018-09-08</td>\n",
       "      <td>40819074</td>\n",
       "      <td>Sandra</td>\n",
       "      <td>The host canceled this reservation 12 days bef...</td>\n",
       "    </tr>\n",
       "  </tbody>\n",
       "</table>\n",
       "</div>"
      ],
      "text/plain": [
       "         listing_id         id        date  reviewer_id reviewer_name  \\\n",
       "1030203    28332975  319559955  2018-09-06       741211         Shana   \n",
       "1030204    28341280  319884817  2018-09-07     70188225        Geenie   \n",
       "1030205    28342923  319775815  2018-09-07     63813041       Barbara   \n",
       "1030206    28369552  320264517  2018-09-08    181877070         Tania   \n",
       "1030207    28369552  320267917  2018-09-08     40819074        Sandra   \n",
       "\n",
       "                                                  comments  \n",
       "1030203  The host canceled this reservation 22 days bef...  \n",
       "1030204  Gorgeous and immaculate! I had the best rest. ...  \n",
       "1030205  The host canceled this reservation 112 days be...  \n",
       "1030206  The host canceled this reservation 2 days befo...  \n",
       "1030207  The host canceled this reservation 12 days bef...  "
      ]
     },
     "execution_count": 15,
     "metadata": {},
     "output_type": "execute_result"
    }
   ],
   "source": [
    "airbnb.tail()"
   ]
  },
  {
   "cell_type": "markdown",
   "metadata": {},
   "source": [
    "#### 1.5 Selecting data via row number\n",
    "\n",
    "usage of .iloc function.\n",
    "Take note of non-inclusion"
   ]
  },
  {
   "cell_type": "code",
   "execution_count": 18,
   "metadata": {},
   "outputs": [
    {
     "data": {
      "text/html": [
       "<div>\n",
       "<style scoped>\n",
       "    .dataframe tbody tr th:only-of-type {\n",
       "        vertical-align: middle;\n",
       "    }\n",
       "\n",
       "    .dataframe tbody tr th {\n",
       "        vertical-align: top;\n",
       "    }\n",
       "\n",
       "    .dataframe thead th {\n",
       "        text-align: right;\n",
       "    }\n",
       "</style>\n",
       "<table border=\"1\" class=\"dataframe\">\n",
       "  <thead>\n",
       "    <tr style=\"text-align: right;\">\n",
       "      <th></th>\n",
       "      <th>listing_id</th>\n",
       "      <th>id</th>\n",
       "      <th>date</th>\n",
       "      <th>reviewer_id</th>\n",
       "      <th>reviewer_name</th>\n",
       "      <th>comments</th>\n",
       "    </tr>\n",
       "  </thead>\n",
       "  <tbody>\n",
       "    <tr>\n",
       "      <th>0</th>\n",
       "      <td>2515</td>\n",
       "      <td>198</td>\n",
       "      <td>2008-10-13</td>\n",
       "      <td>2603</td>\n",
       "      <td>Jenny</td>\n",
       "      <td>Stephanie was a wonderful host! Her apartment ...</td>\n",
       "    </tr>\n",
       "    <tr>\n",
       "      <th>1</th>\n",
       "      <td>2515</td>\n",
       "      <td>859</td>\n",
       "      <td>2009-03-08</td>\n",
       "      <td>8455</td>\n",
       "      <td>Roland</td>\n",
       "      <td>Such a wonderful place and very close to the m...</td>\n",
       "    </tr>\n",
       "    <tr>\n",
       "      <th>2</th>\n",
       "      <td>2515</td>\n",
       "      <td>1083</td>\n",
       "      <td>2009-03-25</td>\n",
       "      <td>9759</td>\n",
       "      <td>Cem</td>\n",
       "      <td>I just got back from a trip to NYC during whic...</td>\n",
       "    </tr>\n",
       "    <tr>\n",
       "      <th>3</th>\n",
       "      <td>2515</td>\n",
       "      <td>1107</td>\n",
       "      <td>2009-03-27</td>\n",
       "      <td>9193</td>\n",
       "      <td>Holly</td>\n",
       "      <td>Stephanie's offered all the most important thi...</td>\n",
       "    </tr>\n",
       "    <tr>\n",
       "      <th>4</th>\n",
       "      <td>2515</td>\n",
       "      <td>2175</td>\n",
       "      <td>2009-05-09</td>\n",
       "      <td>7048</td>\n",
       "      <td>Alessandra</td>\n",
       "      <td>Stephanie was really nice, ftiendly and helpfu...</td>\n",
       "    </tr>\n",
       "    <tr>\n",
       "      <th>5</th>\n",
       "      <td>2515</td>\n",
       "      <td>2889</td>\n",
       "      <td>2009-05-20</td>\n",
       "      <td>12521</td>\n",
       "      <td>Michael</td>\n",
       "      <td>I was pleasantly surprised with my whole stay ...</td>\n",
       "    </tr>\n",
       "    <tr>\n",
       "      <th>6</th>\n",
       "      <td>2515</td>\n",
       "      <td>3213</td>\n",
       "      <td>2009-05-27</td>\n",
       "      <td>5889</td>\n",
       "      <td>Becca</td>\n",
       "      <td>Stephanie's apt was great. Very convenient to ...</td>\n",
       "    </tr>\n",
       "  </tbody>\n",
       "</table>\n",
       "</div>"
      ],
      "text/plain": [
       "   listing_id    id        date  reviewer_id reviewer_name  \\\n",
       "0        2515   198  2008-10-13         2603         Jenny   \n",
       "1        2515   859  2009-03-08         8455        Roland   \n",
       "2        2515  1083  2009-03-25         9759           Cem   \n",
       "3        2515  1107  2009-03-27         9193         Holly   \n",
       "4        2515  2175  2009-05-09         7048    Alessandra   \n",
       "5        2515  2889  2009-05-20        12521       Michael   \n",
       "6        2515  3213  2009-05-27         5889         Becca   \n",
       "\n",
       "                                            comments  \n",
       "0  Stephanie was a wonderful host! Her apartment ...  \n",
       "1  Such a wonderful place and very close to the m...  \n",
       "2  I just got back from a trip to NYC during whic...  \n",
       "3  Stephanie's offered all the most important thi...  \n",
       "4  Stephanie was really nice, ftiendly and helpfu...  \n",
       "5  I was pleasantly surprised with my whole stay ...  \n",
       "6  Stephanie's apt was great. Very convenient to ...  "
      ]
     },
     "execution_count": 18,
     "metadata": {},
     "output_type": "execute_result"
    }
   ],
   "source": [
    "airbnb.head(7)"
   ]
  },
  {
   "cell_type": "code",
   "execution_count": 21,
   "metadata": {},
   "outputs": [
    {
     "data": {
      "text/plain": [
       "listing_id                                                    2515\n",
       "id                                                             859\n",
       "date                                                    2009-03-08\n",
       "reviewer_id                                                   8455\n",
       "reviewer_name                                               Roland\n",
       "comments         Such a wonderful place and very close to the m...\n",
       "Name: 1, dtype: object"
      ]
     },
     "execution_count": 21,
     "metadata": {},
     "output_type": "execute_result"
    }
   ],
   "source": [
    "airbnb.iloc[1]"
   ]
  },
  {
   "cell_type": "code",
   "execution_count": 22,
   "metadata": {},
   "outputs": [
    {
     "data": {
      "text/html": [
       "<div>\n",
       "<style scoped>\n",
       "    .dataframe tbody tr th:only-of-type {\n",
       "        vertical-align: middle;\n",
       "    }\n",
       "\n",
       "    .dataframe tbody tr th {\n",
       "        vertical-align: top;\n",
       "    }\n",
       "\n",
       "    .dataframe thead th {\n",
       "        text-align: right;\n",
       "    }\n",
       "</style>\n",
       "<table border=\"1\" class=\"dataframe\">\n",
       "  <thead>\n",
       "    <tr style=\"text-align: right;\">\n",
       "      <th></th>\n",
       "      <th>listing_id</th>\n",
       "      <th>id</th>\n",
       "      <th>date</th>\n",
       "      <th>reviewer_id</th>\n",
       "      <th>reviewer_name</th>\n",
       "      <th>comments</th>\n",
       "    </tr>\n",
       "  </thead>\n",
       "  <tbody>\n",
       "    <tr>\n",
       "      <th>1</th>\n",
       "      <td>2515</td>\n",
       "      <td>859</td>\n",
       "      <td>2009-03-08</td>\n",
       "      <td>8455</td>\n",
       "      <td>Roland</td>\n",
       "      <td>Such a wonderful place and very close to the m...</td>\n",
       "    </tr>\n",
       "  </tbody>\n",
       "</table>\n",
       "</div>"
      ],
      "text/plain": [
       "   listing_id   id        date  reviewer_id reviewer_name  \\\n",
       "1        2515  859  2009-03-08         8455        Roland   \n",
       "\n",
       "                                            comments  \n",
       "1  Such a wonderful place and very close to the m...  "
      ]
     },
     "execution_count": 22,
     "metadata": {},
     "output_type": "execute_result"
    }
   ],
   "source": [
    "airbnb.iloc[1:2]"
   ]
  },
  {
   "cell_type": "code",
   "execution_count": 24,
   "metadata": {},
   "outputs": [
    {
     "data": {
      "text/html": [
       "<div>\n",
       "<style scoped>\n",
       "    .dataframe tbody tr th:only-of-type {\n",
       "        vertical-align: middle;\n",
       "    }\n",
       "\n",
       "    .dataframe tbody tr th {\n",
       "        vertical-align: top;\n",
       "    }\n",
       "\n",
       "    .dataframe thead th {\n",
       "        text-align: right;\n",
       "    }\n",
       "</style>\n",
       "<table border=\"1\" class=\"dataframe\">\n",
       "  <thead>\n",
       "    <tr style=\"text-align: right;\">\n",
       "      <th></th>\n",
       "      <th>reviewer_id</th>\n",
       "      <th>reviewer_name</th>\n",
       "    </tr>\n",
       "  </thead>\n",
       "  <tbody>\n",
       "    <tr>\n",
       "      <th>1</th>\n",
       "      <td>8455</td>\n",
       "      <td>Roland</td>\n",
       "    </tr>\n",
       "  </tbody>\n",
       "</table>\n",
       "</div>"
      ],
      "text/plain": [
       "   reviewer_id reviewer_name\n",
       "1         8455        Roland"
      ]
     },
     "execution_count": 24,
     "metadata": {},
     "output_type": "execute_result"
    }
   ],
   "source": [
    "airbnb.iloc[1:2, 3:5]"
   ]
  },
  {
   "cell_type": "code",
   "execution_count": 34,
   "metadata": {},
   "outputs": [
    {
     "data": {
      "text/plain": [
       "'The host canceled this reservation 12 days before arrival. This is an automated posting.'"
      ]
     },
     "execution_count": 34,
     "metadata": {},
     "output_type": "execute_result"
    }
   ],
   "source": [
    "airbnb.iloc[-1,-1]"
   ]
  },
  {
   "cell_type": "code",
   "execution_count": 26,
   "metadata": {},
   "outputs": [
    {
     "data": {
      "text/html": [
       "<div>\n",
       "<style scoped>\n",
       "    .dataframe tbody tr th:only-of-type {\n",
       "        vertical-align: middle;\n",
       "    }\n",
       "\n",
       "    .dataframe tbody tr th {\n",
       "        vertical-align: top;\n",
       "    }\n",
       "\n",
       "    .dataframe thead th {\n",
       "        text-align: right;\n",
       "    }\n",
       "</style>\n",
       "<table border=\"1\" class=\"dataframe\">\n",
       "  <thead>\n",
       "    <tr style=\"text-align: right;\">\n",
       "      <th></th>\n",
       "      <th>listing_id</th>\n",
       "      <th>id</th>\n",
       "      <th>date</th>\n",
       "      <th>reviewer_id</th>\n",
       "      <th>reviewer_name</th>\n",
       "      <th>comments</th>\n",
       "    </tr>\n",
       "  </thead>\n",
       "  <tbody>\n",
       "    <tr>\n",
       "      <th>1030207</th>\n",
       "      <td>28369552</td>\n",
       "      <td>320267917</td>\n",
       "      <td>2018-09-08</td>\n",
       "      <td>40819074</td>\n",
       "      <td>Sandra</td>\n",
       "      <td>The host canceled this reservation 12 days bef...</td>\n",
       "    </tr>\n",
       "  </tbody>\n",
       "</table>\n",
       "</div>"
      ],
      "text/plain": [
       "         listing_id         id        date  reviewer_id reviewer_name  \\\n",
       "1030207    28369552  320267917  2018-09-08     40819074        Sandra   \n",
       "\n",
       "                                                  comments  \n",
       "1030207  The host canceled this reservation 12 days bef...  "
      ]
     },
     "execution_count": 26,
     "metadata": {},
     "output_type": "execute_result"
    }
   ],
   "source": [
    "airbnb.tail(1)"
   ]
  },
  {
   "cell_type": "markdown",
   "metadata": {},
   "source": [
    "#### 1.6 Selecting data using labels\n",
    "\n",
    "Take note of how .loc is used. What happens is that when we input the condition into the method call, for every cell, it will be either true of false. Therefore, when we input this boolean condition back into airbnb, it will produce only cells that have true"
   ]
  },
  {
   "cell_type": "code",
   "execution_count": 35,
   "metadata": {},
   "outputs": [
    {
     "data": {
      "text/html": [
       "<div>\n",
       "<style scoped>\n",
       "    .dataframe tbody tr th:only-of-type {\n",
       "        vertical-align: middle;\n",
       "    }\n",
       "\n",
       "    .dataframe tbody tr th {\n",
       "        vertical-align: top;\n",
       "    }\n",
       "\n",
       "    .dataframe thead th {\n",
       "        text-align: right;\n",
       "    }\n",
       "</style>\n",
       "<table border=\"1\" class=\"dataframe\">\n",
       "  <thead>\n",
       "    <tr style=\"text-align: right;\">\n",
       "      <th></th>\n",
       "      <th>listing_id</th>\n",
       "      <th>id</th>\n",
       "      <th>date</th>\n",
       "      <th>reviewer_id</th>\n",
       "      <th>reviewer_name</th>\n",
       "      <th>comments</th>\n",
       "    </tr>\n",
       "  </thead>\n",
       "  <tbody>\n",
       "    <tr>\n",
       "      <th>0</th>\n",
       "      <td>2515</td>\n",
       "      <td>198</td>\n",
       "      <td>2008-10-13</td>\n",
       "      <td>2603</td>\n",
       "      <td>Jenny</td>\n",
       "      <td>Stephanie was a wonderful host! Her apartment ...</td>\n",
       "    </tr>\n",
       "    <tr>\n",
       "      <th>1</th>\n",
       "      <td>2515</td>\n",
       "      <td>859</td>\n",
       "      <td>2009-03-08</td>\n",
       "      <td>8455</td>\n",
       "      <td>Roland</td>\n",
       "      <td>Such a wonderful place and very close to the m...</td>\n",
       "    </tr>\n",
       "  </tbody>\n",
       "</table>\n",
       "</div>"
      ],
      "text/plain": [
       "   listing_id   id        date  reviewer_id reviewer_name  \\\n",
       "0        2515  198  2008-10-13         2603         Jenny   \n",
       "1        2515  859  2009-03-08         8455        Roland   \n",
       "\n",
       "                                            comments  \n",
       "0  Stephanie was a wonderful host! Her apartment ...  \n",
       "1  Such a wonderful place and very close to the m...  "
      ]
     },
     "execution_count": 35,
     "metadata": {},
     "output_type": "execute_result"
    }
   ],
   "source": [
    "airbnb.head(2)"
   ]
  },
  {
   "cell_type": "code",
   "execution_count": 37,
   "metadata": {},
   "outputs": [
    {
     "data": {
      "text/html": [
       "<div>\n",
       "<style scoped>\n",
       "    .dataframe tbody tr th:only-of-type {\n",
       "        vertical-align: middle;\n",
       "    }\n",
       "\n",
       "    .dataframe tbody tr th {\n",
       "        vertical-align: top;\n",
       "    }\n",
       "\n",
       "    .dataframe thead th {\n",
       "        text-align: right;\n",
       "    }\n",
       "</style>\n",
       "<table border=\"1\" class=\"dataframe\">\n",
       "  <thead>\n",
       "    <tr style=\"text-align: right;\">\n",
       "      <th></th>\n",
       "      <th>listing_id</th>\n",
       "      <th>id</th>\n",
       "      <th>date</th>\n",
       "      <th>reviewer_id</th>\n",
       "      <th>reviewer_name</th>\n",
       "      <th>comments</th>\n",
       "    </tr>\n",
       "  </thead>\n",
       "  <tbody>\n",
       "    <tr>\n",
       "      <th>0</th>\n",
       "      <td>2515</td>\n",
       "      <td>198</td>\n",
       "      <td>2008-10-13</td>\n",
       "      <td>2603</td>\n",
       "      <td>Jenny</td>\n",
       "      <td>Stephanie was a wonderful host! Her apartment ...</td>\n",
       "    </tr>\n",
       "    <tr>\n",
       "      <th>531</th>\n",
       "      <td>5121</td>\n",
       "      <td>3271</td>\n",
       "      <td>2009-05-28</td>\n",
       "      <td>2995</td>\n",
       "      <td>Misha</td>\n",
       "      <td>Simple place, super nice guy.</td>\n",
       "    </tr>\n",
       "    <tr>\n",
       "      <th>680</th>\n",
       "      <td>5178</td>\n",
       "      <td>54538</td>\n",
       "      <td>2010-06-18</td>\n",
       "      <td>409</td>\n",
       "      <td>Mathieu</td>\n",
       "      <td>Fantastic location, very private, I came and w...</td>\n",
       "    </tr>\n",
       "    <tr>\n",
       "      <th>1183</th>\n",
       "      <td>5216</td>\n",
       "      <td>261267</td>\n",
       "      <td>2011-05-12</td>\n",
       "      <td>2425</td>\n",
       "      <td>Crisel</td>\n",
       "      <td>Our stay at Super Large APT was amazing! We bo...</td>\n",
       "    </tr>\n",
       "    <tr>\n",
       "      <th>1721</th>\n",
       "      <td>5945</td>\n",
       "      <td>26722</td>\n",
       "      <td>2010-02-17</td>\n",
       "      <td>2</td>\n",
       "      <td>Joe</td>\n",
       "      <td>I had a chance to stay with Robin at her West ...</td>\n",
       "    </tr>\n",
       "    <tr>\n",
       "      <th>...</th>\n",
       "      <td>...</td>\n",
       "      <td>...</td>\n",
       "      <td>...</td>\n",
       "      <td>...</td>\n",
       "      <td>...</td>\n",
       "      <td>...</td>\n",
       "    </tr>\n",
       "    <tr>\n",
       "      <th>972658</th>\n",
       "      <td>22463977</td>\n",
       "      <td>247751127</td>\n",
       "      <td>2018-03-29</td>\n",
       "      <td>2852</td>\n",
       "      <td>Natasha</td>\n",
       "      <td>Chris is a super helpful, thoughtful, gracious...</td>\n",
       "    </tr>\n",
       "    <tr>\n",
       "      <th>974266</th>\n",
       "      <td>22532452</td>\n",
       "      <td>234436275</td>\n",
       "      <td>2018-02-12</td>\n",
       "      <td>56</td>\n",
       "      <td>Eunice</td>\n",
       "      <td>We had a wonderful stay at Amma’s beautiful ap...</td>\n",
       "    </tr>\n",
       "    <tr>\n",
       "      <th>979045</th>\n",
       "      <td>22797190</td>\n",
       "      <td>236548850</td>\n",
       "      <td>2018-02-19</td>\n",
       "      <td>56</td>\n",
       "      <td>Eunice</td>\n",
       "      <td>Svetlana's apt was lovely and she was super he...</td>\n",
       "    </tr>\n",
       "    <tr>\n",
       "      <th>1018655</th>\n",
       "      <td>25719044</td>\n",
       "      <td>275195947</td>\n",
       "      <td>2018-06-10</td>\n",
       "      <td>3096</td>\n",
       "      <td>Ruth</td>\n",
       "      <td>Stephany was warm and welcoming. Her apartment...</td>\n",
       "    </tr>\n",
       "    <tr>\n",
       "      <th>1026594</th>\n",
       "      <td>26874451</td>\n",
       "      <td>311568395</td>\n",
       "      <td>2018-08-21</td>\n",
       "      <td>4645</td>\n",
       "      <td>Vita</td>\n",
       "      <td>We loved our stay. The place is super clean, s...</td>\n",
       "    </tr>\n",
       "  </tbody>\n",
       "</table>\n",
       "<p>166 rows × 6 columns</p>\n",
       "</div>"
      ],
      "text/plain": [
       "         listing_id         id        date  reviewer_id reviewer_name  \\\n",
       "0              2515        198  2008-10-13         2603         Jenny   \n",
       "531            5121       3271  2009-05-28         2995         Misha   \n",
       "680            5178      54538  2010-06-18          409       Mathieu   \n",
       "1183           5216     261267  2011-05-12         2425        Crisel   \n",
       "1721           5945      26722  2010-02-17            2           Joe   \n",
       "...             ...        ...         ...          ...           ...   \n",
       "972658     22463977  247751127  2018-03-29         2852       Natasha   \n",
       "974266     22532452  234436275  2018-02-12           56        Eunice   \n",
       "979045     22797190  236548850  2018-02-19           56        Eunice   \n",
       "1018655    25719044  275195947  2018-06-10         3096          Ruth   \n",
       "1026594    26874451  311568395  2018-08-21         4645          Vita   \n",
       "\n",
       "                                                  comments  \n",
       "0        Stephanie was a wonderful host! Her apartment ...  \n",
       "531                          Simple place, super nice guy.  \n",
       "680      Fantastic location, very private, I came and w...  \n",
       "1183     Our stay at Super Large APT was amazing! We bo...  \n",
       "1721     I had a chance to stay with Robin at her West ...  \n",
       "...                                                    ...  \n",
       "972658   Chris is a super helpful, thoughtful, gracious...  \n",
       "974266   We had a wonderful stay at Amma’s beautiful ap...  \n",
       "979045   Svetlana's apt was lovely and she was super he...  \n",
       "1018655  Stephany was warm and welcoming. Her apartment...  \n",
       "1026594  We loved our stay. The place is super clean, s...  \n",
       "\n",
       "[166 rows x 6 columns]"
      ]
     },
     "execution_count": 37,
     "metadata": {},
     "output_type": "execute_result"
    }
   ],
   "source": [
    "airbnb.loc[airbnb['reviewer_id'] < 5000]"
   ]
  },
  {
   "cell_type": "code",
   "execution_count": 40,
   "metadata": {},
   "outputs": [
    {
     "data": {
      "text/html": [
       "<div>\n",
       "<style scoped>\n",
       "    .dataframe tbody tr th:only-of-type {\n",
       "        vertical-align: middle;\n",
       "    }\n",
       "\n",
       "    .dataframe tbody tr th {\n",
       "        vertical-align: top;\n",
       "    }\n",
       "\n",
       "    .dataframe thead th {\n",
       "        text-align: right;\n",
       "    }\n",
       "</style>\n",
       "<table border=\"1\" class=\"dataframe\">\n",
       "  <thead>\n",
       "    <tr style=\"text-align: right;\">\n",
       "      <th></th>\n",
       "      <th>listing_id</th>\n",
       "      <th>id</th>\n",
       "      <th>date</th>\n",
       "      <th>reviewer_id</th>\n",
       "      <th>reviewer_name</th>\n",
       "      <th>comments</th>\n",
       "    </tr>\n",
       "  </thead>\n",
       "  <tbody>\n",
       "    <tr>\n",
       "      <th>512</th>\n",
       "      <td>5099</td>\n",
       "      <td>41462764</td>\n",
       "      <td>2015-08-07</td>\n",
       "      <td>2368008</td>\n",
       "      <td>Joe</td>\n",
       "      <td>Tina was a tremendous host. It was easy to sta...</td>\n",
       "    </tr>\n",
       "    <tr>\n",
       "      <th>1721</th>\n",
       "      <td>5945</td>\n",
       "      <td>26722</td>\n",
       "      <td>2010-02-17</td>\n",
       "      <td>2</td>\n",
       "      <td>Joe</td>\n",
       "      <td>I had a chance to stay with Robin at her West ...</td>\n",
       "    </tr>\n",
       "    <tr>\n",
       "      <th>2275</th>\n",
       "      <td>7097</td>\n",
       "      <td>24776788</td>\n",
       "      <td>2015-01-02</td>\n",
       "      <td>24916681</td>\n",
       "      <td>Joe</td>\n",
       "      <td>This is a great place to stay!  My wife and I ...</td>\n",
       "    </tr>\n",
       "    <tr>\n",
       "      <th>2325</th>\n",
       "      <td>7097</td>\n",
       "      <td>148408576</td>\n",
       "      <td>2017-04-30</td>\n",
       "      <td>47208223</td>\n",
       "      <td>Joe</td>\n",
       "      <td>Excellent apartment.  Great location.  The out...</td>\n",
       "    </tr>\n",
       "    <tr>\n",
       "      <th>2572</th>\n",
       "      <td>7322</td>\n",
       "      <td>3004515</td>\n",
       "      <td>2012-12-01</td>\n",
       "      <td>4231000</td>\n",
       "      <td>Joe</td>\n",
       "      <td>Chelsea Perfect is wonderful, just as in the p...</td>\n",
       "    </tr>\n",
       "    <tr>\n",
       "      <th>...</th>\n",
       "      <td>...</td>\n",
       "      <td>...</td>\n",
       "      <td>...</td>\n",
       "      <td>...</td>\n",
       "      <td>...</td>\n",
       "      <td>...</td>\n",
       "    </tr>\n",
       "    <tr>\n",
       "      <th>1027509</th>\n",
       "      <td>27052657</td>\n",
       "      <td>307577422</td>\n",
       "      <td>2018-08-14</td>\n",
       "      <td>154114409</td>\n",
       "      <td>Joe</td>\n",
       "      <td>clean and spacious studio apartment and a grea...</td>\n",
       "    </tr>\n",
       "    <tr>\n",
       "      <th>1027774</th>\n",
       "      <td>27111405</td>\n",
       "      <td>315005414</td>\n",
       "      <td>2018-08-27</td>\n",
       "      <td>160113303</td>\n",
       "      <td>Joe</td>\n",
       "      <td>Danny’s place is great for a quick trip to NYC...</td>\n",
       "    </tr>\n",
       "    <tr>\n",
       "      <th>1028233</th>\n",
       "      <td>27252394</td>\n",
       "      <td>305627209</td>\n",
       "      <td>2018-08-11</td>\n",
       "      <td>79392746</td>\n",
       "      <td>Joe</td>\n",
       "      <td>Great location, close to the ferry. Perfect fo...</td>\n",
       "    </tr>\n",
       "    <tr>\n",
       "      <th>1028415</th>\n",
       "      <td>27299600</td>\n",
       "      <td>302437937</td>\n",
       "      <td>2018-08-05</td>\n",
       "      <td>86040573</td>\n",
       "      <td>Joe</td>\n",
       "      <td>Wow!! This place was amazing! I’ve renting fro...</td>\n",
       "    </tr>\n",
       "    <tr>\n",
       "      <th>1030145</th>\n",
       "      <td>28112266</td>\n",
       "      <td>316174184</td>\n",
       "      <td>2018-08-30</td>\n",
       "      <td>147290889</td>\n",
       "      <td>Joe</td>\n",
       "      <td>Great spot!  Clean, great amenities, awesome l...</td>\n",
       "    </tr>\n",
       "  </tbody>\n",
       "</table>\n",
       "<p>1549 rows × 6 columns</p>\n",
       "</div>"
      ],
      "text/plain": [
       "         listing_id         id        date  reviewer_id reviewer_name  \\\n",
       "512            5099   41462764  2015-08-07      2368008           Joe   \n",
       "1721           5945      26722  2010-02-17            2           Joe   \n",
       "2275           7097   24776788  2015-01-02     24916681           Joe   \n",
       "2325           7097  148408576  2017-04-30     47208223           Joe   \n",
       "2572           7322    3004515  2012-12-01      4231000           Joe   \n",
       "...             ...        ...         ...          ...           ...   \n",
       "1027509    27052657  307577422  2018-08-14    154114409           Joe   \n",
       "1027774    27111405  315005414  2018-08-27    160113303           Joe   \n",
       "1028233    27252394  305627209  2018-08-11     79392746           Joe   \n",
       "1028415    27299600  302437937  2018-08-05     86040573           Joe   \n",
       "1030145    28112266  316174184  2018-08-30    147290889           Joe   \n",
       "\n",
       "                                                  comments  \n",
       "512      Tina was a tremendous host. It was easy to sta...  \n",
       "1721     I had a chance to stay with Robin at her West ...  \n",
       "2275     This is a great place to stay!  My wife and I ...  \n",
       "2325     Excellent apartment.  Great location.  The out...  \n",
       "2572     Chelsea Perfect is wonderful, just as in the p...  \n",
       "...                                                    ...  \n",
       "1027509  clean and spacious studio apartment and a grea...  \n",
       "1027774  Danny’s place is great for a quick trip to NYC...  \n",
       "1028233  Great location, close to the ferry. Perfect fo...  \n",
       "1028415  Wow!! This place was amazing! I’ve renting fro...  \n",
       "1030145  Great spot!  Clean, great amenities, awesome l...  \n",
       "\n",
       "[1549 rows x 6 columns]"
      ]
     },
     "execution_count": 40,
     "metadata": {},
     "output_type": "execute_result"
    }
   ],
   "source": [
    "airbnb.loc[airbnb['reviewer_name'] == 'Joe']"
   ]
  },
  {
   "cell_type": "code",
   "execution_count": 58,
   "metadata": {},
   "outputs": [
    {
     "data": {
      "text/html": [
       "<div>\n",
       "<style scoped>\n",
       "    .dataframe tbody tr th:only-of-type {\n",
       "        vertical-align: middle;\n",
       "    }\n",
       "\n",
       "    .dataframe tbody tr th {\n",
       "        vertical-align: top;\n",
       "    }\n",
       "\n",
       "    .dataframe thead th {\n",
       "        text-align: right;\n",
       "    }\n",
       "</style>\n",
       "<table border=\"1\" class=\"dataframe\">\n",
       "  <thead>\n",
       "    <tr style=\"text-align: right;\">\n",
       "      <th></th>\n",
       "      <th>listing_id</th>\n",
       "      <th>id</th>\n",
       "      <th>date</th>\n",
       "      <th>reviewer_id</th>\n",
       "      <th>reviewer_name</th>\n",
       "      <th>comments</th>\n",
       "    </tr>\n",
       "  </thead>\n",
       "  <tbody>\n",
       "    <tr>\n",
       "      <th>1721</th>\n",
       "      <td>5945</td>\n",
       "      <td>26722</td>\n",
       "      <td>2010-02-17</td>\n",
       "      <td>2</td>\n",
       "      <td>Joe</td>\n",
       "      <td>I had a chance to stay with Robin at her West ...</td>\n",
       "    </tr>\n",
       "    <tr>\n",
       "      <th>4194</th>\n",
       "      <td>12048</td>\n",
       "      <td>89587</td>\n",
       "      <td>2010-09-03</td>\n",
       "      <td>194582</td>\n",
       "      <td>Joe</td>\n",
       "      <td>Ben is a great host. I stayed at his place whi...</td>\n",
       "    </tr>\n",
       "    <tr>\n",
       "      <th>4195</th>\n",
       "      <td>12048</td>\n",
       "      <td>94473</td>\n",
       "      <td>2010-09-10</td>\n",
       "      <td>227235</td>\n",
       "      <td>Joe</td>\n",
       "      <td>Ben was great. He's really friendly and person...</td>\n",
       "    </tr>\n",
       "    <tr>\n",
       "      <th>13767</th>\n",
       "      <td>29628</td>\n",
       "      <td>72746</td>\n",
       "      <td>2010-08-02</td>\n",
       "      <td>134814</td>\n",
       "      <td>Joe</td>\n",
       "      <td>Chris is a warm,easygoing individual who made ...</td>\n",
       "    </tr>\n",
       "  </tbody>\n",
       "</table>\n",
       "</div>"
      ],
      "text/plain": [
       "       listing_id     id        date  reviewer_id reviewer_name  \\\n",
       "1721         5945  26722  2010-02-17            2           Joe   \n",
       "4194        12048  89587  2010-09-03       194582           Joe   \n",
       "4195        12048  94473  2010-09-10       227235           Joe   \n",
       "13767       29628  72746  2010-08-02       134814           Joe   \n",
       "\n",
       "                                                comments  \n",
       "1721   I had a chance to stay with Robin at her West ...  \n",
       "4194   Ben is a great host. I stayed at his place whi...  \n",
       "4195   Ben was great. He's really friendly and person...  \n",
       "13767  Chris is a warm,easygoing individual who made ...  "
      ]
     },
     "execution_count": 58,
     "metadata": {},
     "output_type": "execute_result"
    }
   ],
   "source": [
    "airbnb.loc[(airbnb['id'] < 100000) & (airbnb['reviewer_name'] == 'Joe')]"
   ]
  },
  {
   "cell_type": "markdown",
   "metadata": {},
   "source": [
    "---\n",
    "\n",
    "\n",
    "## Matplotlib\n"
   ]
  },
  {
   "cell_type": "markdown",
   "metadata": {},
   "source": [
    "We will use the iris dataset"
   ]
  },
  {
   "cell_type": "code",
   "execution_count": 63,
   "metadata": {},
   "outputs": [],
   "source": [
    "import seaborn as sns\n",
    "\n",
    "iris = sns.load_dataset('iris')"
   ]
  },
  {
   "cell_type": "markdown",
   "metadata": {},
   "source": [
    "#### 2.1 Histogram and boxplot"
   ]
  },
  {
   "cell_type": "code",
   "execution_count": 66,
   "metadata": {},
   "outputs": [
    {
     "data": {
      "image/png": "[encoded data removed]",
      "text/plain": [
       "<Figure size 432x288 with 1 Axes>"
      ]
     },
     "metadata": {
      "needs_background": "light"
     },
     "output_type": "display_data"
    }
   ],
   "source": [
    "plt.hist(iris['petal_width'])\n",
    "plt.show()"
   ]
  },
  {
   "cell_type": "code",
   "execution_count": 68,
   "metadata": {},
   "outputs": [
    {
     "data": {
      "image/png": "[encoded data removed]",
      "text/plain": [
       "<Figure size 432x288 with 1 Axes>"
      ]
     },
     "metadata": {
      "needs_background": "light"
     },
     "output_type": "display_data"
    }
   ],
   "source": [
    "plt.boxplot(iris['sepal_length'])\n",
    "\n",
    "plt.show()"
   ]
  },
  {
   "cell_type": "markdown",
   "metadata": {},
   "source": [
    "#### 2.2 Bar Chart"
   ]
  },
  {
   "cell_type": "code",
   "execution_count": 76,
   "metadata": {},
   "outputs": [
    {
     "data": {
      "image/png": "[encoded data removed]",
      "text/plain": [
       "<Figure size 432x288 with 1 Axes>"
      ]
     },
     "metadata": {
      "needs_background": "light"
     },
     "output_type": "display_data"
    }
   ],
   "source": [
    "plt.bar(iris['sepal_length'], iris['petal_width'])\n",
    "plt.title('Barplot of Sepal Length against Width')\n",
    "plt.xlabel('Sepal Length')\n",
    "plt.ylabel('Petal Width')\n",
    "\n",
    "plt.show()"
   ]
  },
  {
   "cell_type": "markdown",
   "metadata": {},
   "source": [
    "#### 2.3 Line Plot"
   ]
  },
  {
   "cell_type": "code",
   "execution_count": 93,
   "metadata": {},
   "outputs": [
    {
     "data": {
      "image/png": "[encoded data removed]",
      "text/plain": [
       "<Figure size 432x288 with 1 Axes>"
      ]
     },
     "metadata": {
      "needs_background": "light"
     },
     "output_type": "display_data"
    }
   ],
   "source": [
    "plt.plot(iris['petal_length'], iris['petal_width'])\n",
    "plt.show()"
   ]
  },
  {
   "cell_type": "code",
   "execution_count": 96,
   "metadata": {},
   "outputs": [
    {
     "data": {
      "text/plain": [
       "[<matplotlib.lines.Line2D at 0x12e4f0c10>]"
      ]
     },
     "execution_count": 96,
     "metadata": {},
     "output_type": "execute_result"
    },
    {
     "data": {
      "image/png": "[encoded data removed]",
      "text/plain": [
       "<Figure size 432x288 with 1 Axes>"
      ]
     },
     "metadata": {
      "needs_background": "light"
     },
     "output_type": "display_data"
    }
   ],
   "source": [
    "# above, we see that the line plot does not make much sense.\n",
    "# instead, the following line plot carries more information.\n",
    "\n",
    "x = [1,2,3,4]\n",
    "y = [4,3.5,3,1]\n",
    "plt.plot(x,y)"
   ]
  },
  {
   "cell_type": "markdown",
   "metadata": {},
   "source": [
    "From this, we learn that lineplots are mainly useful when showing a general trend over time or a linear relationship."
   ]
  },
  {
   "cell_type": "markdown",
   "metadata": {},
   "source": [
    "#### 2.4 Scatterplot"
   ]
  },
  {
   "cell_type": "code",
   "execution_count": 100,
   "metadata": {},
   "outputs": [
    {
     "data": {
      "image/png": "[encoded data removed]",
      "text/plain": [
       "<Figure size 432x288 with 1 Axes>"
      ]
     },
     "metadata": {
      "needs_background": "light"
     },
     "output_type": "display_data"
    }
   ],
   "source": [
    "plt.scatter(iris['sepal_length'], iris['petal_length'])\n",
    "plt.show()"
   ]
  },
  {
   "cell_type": "markdown",
   "metadata": {},
   "source": [
    "In general, we can claim that the large the sepal length, the larger the petal length"
   ]
  },
  {
   "cell_type": "markdown",
   "metadata": {},
   "source": [
    "## Conclusion\n",
    "\n",
    "To date, we have tried out multiple functions from pandas and matplotlib. I hope this exercise serves as a good reminder for the content covered in lecture 1. Thank you :)\n"
   ]
  }
 ],
 "metadata": {
  "kernelspec": {
   "display_name": "Python 3",
   "language": "python",
   "name": "python3"
  },
  "language_info": {
   "codemirror_mode": {
    "name": "ipython",
    "version": 3
   },
   "file_extension": ".py",
   "mimetype": "text/x-python",
   "name": "python",
   "nbconvert_exporter": "python",
   "pygments_lexer": "ipython3",
   "version": "3.7.5"
  }
 },
 "nbformat": 4,
 "nbformat_minor": 2
}
